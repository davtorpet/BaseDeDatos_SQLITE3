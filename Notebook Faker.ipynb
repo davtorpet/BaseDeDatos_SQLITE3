{
 "cells": [
  {
   "cell_type": "code",
   "execution_count": 1,
   "id": "3640c579",
   "metadata": {},
   "outputs": [],
   "source": [
    "from faker import Faker\n",
    "fake = Faker(\"es_ES\")  # Datos en español\n",
    "import random"
   ]
  },
  {
   "cell_type": "code",
   "execution_count": 95,
   "id": "85ddb1df",
   "metadata": {},
   "outputs": [],
   "source": [
    "import sqlite3\n",
    "connection = sqlite3.connect(\"../base_de_Datos_2.db\")\n",
    "cursor = connection.cursor()"
   ]
  },
  {
   "cell_type": "code",
   "execution_count": null,
   "id": "75ab8972",
   "metadata": {},
   "outputs": [
    {
     "name": "stdout",
     "output_type": "stream",
     "text": [
      "                             nombre  \\\n",
      "0    Infraestructuras Ibéricos S.L.   \n",
      "1               Comercial GNGV S.A.   \n",
      "2           Industrias Peralta S.L.   \n",
      "3  Ascensión Andrade Navarrete S.L.   \n",
      "4            Hermanos Soria S.Coop.   \n",
      "\n",
      "                                           direccion    ciudad  provincia  \\\n",
      "0  Pasaje de Rebeca Galvez 32 Piso 7 , Asturias, ...   Melilla  Castellón   \n",
      "1  Alameda de Cecilio Atienza 245 Apt. 59 , Lleid...    Cuenca    Sevilla   \n",
      "2         Ronda de Lino Zorrilla 5, Barcelona, 23134  La Rioja     Málaga   \n",
      "3          Cuesta Isidro Laguna 26, Salamanca, 17962      Jaén  Cantabria   \n",
      "4     Vial Alfredo Boada 8 Piso 4 , Tarragona, 29784    Toledo     Toledo   \n",
      "\n",
      "   codigo_proveedor  \n",
      "0              7232  \n",
      "1              7453  \n",
      "2              5427  \n",
      "3              8436  \n",
      "4              2878  \n"
     ]
    }
   ],
   "source": [
    "from faker import Faker\n",
    "import pandas as pd\n",
    "\n",
    "# Crear el generador de datos en español\n",
    "fake = Faker(\"es_ES\")\n",
    "\n",
    "# Número de proveedores a generar\n",
    "num_proveedores = 100\n",
    "\n",
    "# Crear una lista de diccionarios con los datos de los proveedores\n",
    "proveedores = []\n",
    "for _ in range(num_proveedores):\n",
    "    proveedor = {\n",
    "        \"nombre\": fake.company(),\n",
    "        \"direccion\": str(fake.address().replace(\"\\n\", \", \")),\n",
    "        \"ciudad\": fake.city().replace(\"\\n\", \", \"),\n",
    "        \"provincia\": fake.state(),\n",
    "        \"codigo_proveedor\": fake.random_int(min=1000, max=9999)\n",
    "    }\n",
    "    proveedores.append(proveedor)\n",
    "\n",
    "# Convertir la lista en un DataFrame de Pandas\n",
    "df_proveedores = pd.DataFrame(proveedores)\n",
    "# Mostrar las primeras filas del DataFrame\n",
    "print(df_proveedores.head())\n",
    "\n",
    "# Guardar la base de datos en un archivo CSV\n",
    "df_proveedores.to_csv(\"./archivos_csv/proveedores.csv\", index=False)"
   ]
  },
  {
   "cell_type": "code",
   "execution_count": 89,
   "id": "e65da93f",
   "metadata": {},
   "outputs": [],
   "source": [
    "df_proveedores.loc[df_proveedores[\"codigo_proveedor\"].duplicated(), \"codigo_proveedor\"] = df_proveedores[\"codigo_proveedor\"].max() + 1"
   ]
  },
  {
   "cell_type": "code",
   "execution_count": 91,
   "id": "83924dfd",
   "metadata": {},
   "outputs": [
    {
     "name": "stdout",
     "output_type": "stream",
     "text": [
      "<class 'pandas.core.frame.DataFrame'>\n",
      "RangeIndex: 100 entries, 0 to 99\n",
      "Data columns (total 5 columns):\n",
      " #   Column            Non-Null Count  Dtype \n",
      "---  ------            --------------  ----- \n",
      " 0   nombre            100 non-null    object\n",
      " 1   direccion         100 non-null    object\n",
      " 2   ciudad            100 non-null    object\n",
      " 3   provincia         100 non-null    object\n",
      " 4   codigo_proveedor  100 non-null    int64 \n",
      "dtypes: int64(1), object(4)\n",
      "memory usage: 4.0+ KB\n"
     ]
    }
   ],
   "source": [
    "df_proveedores.info()"
   ]
  },
  {
   "cell_type": "code",
   "execution_count": 92,
   "id": "98f4835a",
   "metadata": {},
   "outputs": [
    {
     "data": {
      "text/html": [
       "<div>\n",
       "<style scoped>\n",
       "    .dataframe tbody tr th:only-of-type {\n",
       "        vertical-align: middle;\n",
       "    }\n",
       "\n",
       "    .dataframe tbody tr th {\n",
       "        vertical-align: top;\n",
       "    }\n",
       "\n",
       "    .dataframe thead th {\n",
       "        text-align: right;\n",
       "    }\n",
       "</style>\n",
       "<table border=\"1\" class=\"dataframe\">\n",
       "  <thead>\n",
       "    <tr style=\"text-align: right;\">\n",
       "      <th></th>\n",
       "      <th>nombre</th>\n",
       "      <th>direccion</th>\n",
       "      <th>ciudad</th>\n",
       "      <th>provincia</th>\n",
       "      <th>codigo_proveedor</th>\n",
       "    </tr>\n",
       "  </thead>\n",
       "  <tbody>\n",
       "    <tr>\n",
       "      <th>0</th>\n",
       "      <td>Infraestructuras Ibéricos S.L.</td>\n",
       "      <td>Pasaje de Rebeca Galvez 32 Piso 7 , Asturias, ...</td>\n",
       "      <td>Melilla</td>\n",
       "      <td>Castellón</td>\n",
       "      <td>7232</td>\n",
       "    </tr>\n",
       "    <tr>\n",
       "      <th>1</th>\n",
       "      <td>Comercial GNGV S.A.</td>\n",
       "      <td>Alameda de Cecilio Atienza 245 Apt. 59 , Lleid...</td>\n",
       "      <td>Cuenca</td>\n",
       "      <td>Sevilla</td>\n",
       "      <td>7453</td>\n",
       "    </tr>\n",
       "    <tr>\n",
       "      <th>2</th>\n",
       "      <td>Industrias Peralta S.L.</td>\n",
       "      <td>Ronda de Lino Zorrilla 5, Barcelona, 23134</td>\n",
       "      <td>La Rioja</td>\n",
       "      <td>Málaga</td>\n",
       "      <td>5427</td>\n",
       "    </tr>\n",
       "    <tr>\n",
       "      <th>3</th>\n",
       "      <td>Ascensión Andrade Navarrete S.L.</td>\n",
       "      <td>Cuesta Isidro Laguna 26, Salamanca, 17962</td>\n",
       "      <td>Jaén</td>\n",
       "      <td>Cantabria</td>\n",
       "      <td>8436</td>\n",
       "    </tr>\n",
       "    <tr>\n",
       "      <th>4</th>\n",
       "      <td>Hermanos Soria S.Coop.</td>\n",
       "      <td>Vial Alfredo Boada 8 Piso 4 , Tarragona, 29784</td>\n",
       "      <td>Toledo</td>\n",
       "      <td>Toledo</td>\n",
       "      <td>2878</td>\n",
       "    </tr>\n",
       "  </tbody>\n",
       "</table>\n",
       "</div>"
      ],
      "text/plain": [
       "                             nombre  \\\n",
       "0    Infraestructuras Ibéricos S.L.   \n",
       "1               Comercial GNGV S.A.   \n",
       "2           Industrias Peralta S.L.   \n",
       "3  Ascensión Andrade Navarrete S.L.   \n",
       "4            Hermanos Soria S.Coop.   \n",
       "\n",
       "                                           direccion    ciudad  provincia  \\\n",
       "0  Pasaje de Rebeca Galvez 32 Piso 7 , Asturias, ...   Melilla  Castellón   \n",
       "1  Alameda de Cecilio Atienza 245 Apt. 59 , Lleid...    Cuenca    Sevilla   \n",
       "2         Ronda de Lino Zorrilla 5, Barcelona, 23134  La Rioja     Málaga   \n",
       "3          Cuesta Isidro Laguna 26, Salamanca, 17962      Jaén  Cantabria   \n",
       "4     Vial Alfredo Boada 8 Piso 4 , Tarragona, 29784    Toledo     Toledo   \n",
       "\n",
       "   codigo_proveedor  \n",
       "0              7232  \n",
       "1              7453  \n",
       "2              5427  \n",
       "3              8436  \n",
       "4              2878  "
      ]
     },
     "execution_count": 92,
     "metadata": {},
     "output_type": "execute_result"
    }
   ],
   "source": [
    "df_proveedores.head()"
   ]
  },
  {
   "cell_type": "code",
   "execution_count": 97,
   "id": "8826511e",
   "metadata": {},
   "outputs": [],
   "source": [
    "for i in range(len(df_proveedores)):\n",
    "    cursor.execute(\"INSERT INTO Proveedores (proveedor_id,nombre,direccion,ciudad,provincia) VALUES (?,?,?,?,?)\",(int(df_proveedores.iloc[i][\"codigo_proveedor\"]),str(df_proveedores.iloc[i][\"nombre\"]),str(df_proveedores.iloc[i][\"direccion\"]),df_proveedores.iloc[i][\"ciudad\"],df_proveedores.iloc[i][\"provincia\"])) \n"
   ]
  },
  {
   "cell_type": "code",
   "execution_count": 99,
   "id": "b15d21b7",
   "metadata": {},
   "outputs": [],
   "source": [
    "connection.commit()"
   ]
  },
  {
   "cell_type": "code",
   "execution_count": 104,
   "id": "b6cc5d7a",
   "metadata": {},
   "outputs": [
    {
     "name": "stdout",
     "output_type": "stream",
     "text": [
      "   categoria_id      nombre\n",
      "0             2    Mecánica\n",
      "1             3  Interiores\n",
      "2             4  Carrocería\n",
      "3             5  Neumaticos\n",
      "4             6  Accesorios\n"
     ]
    }
   ],
   "source": [
    "import pandas as pd\n",
    "\n",
    "# Generar categorias\n",
    "df_categorias = pd.DataFrame({\n",
    "    \"categoria_id\": [2, 3, 4, 5, 6],\n",
    "    \"nombre\": [\"Mecánica\", \"Interiores\", \"Carrocería\",\"Neumaticos\",\"Accesorios\"]\n",
    "})\n",
    "\n",
    "# Mostrar la tabla\n",
    "print(df_categorias)\n",
    "\n",
    "df_categorias.to_csv(\"categorias.csv\", index=False)"
   ]
  },
  {
   "cell_type": "code",
   "execution_count": 105,
   "id": "87c60b8c",
   "metadata": {},
   "outputs": [],
   "source": [
    "for i in range(len(df_categorias)):\n",
    "    cursor.execute(\"INSERT INTO Categorias (categoria_id,nombre) VALUES (?,?)\",(int(df_categorias.iloc[i][\"categoria_id\"]),df_categorias.iloc[i][\"nombre\"]))\n"
   ]
  },
  {
   "cell_type": "code",
   "execution_count": 106,
   "id": "e9b81252",
   "metadata": {},
   "outputs": [],
   "source": [
    "connection.commit()"
   ]
  },
  {
   "cell_type": "code",
   "execution_count": null,
   "id": "a664366e",
   "metadata": {},
   "outputs": [
    {
     "name": "stdout",
     "output_type": "stream",
     "text": [
      "   codigo_pieza             nombre  color  precio  categoria_id\n",
      "0           259   Faros delanteros  negro  413.37             5\n",
      "1           537  Motor de arranque  negro  285.61             3\n",
      "2           578           Radiador   azul  429.48             6\n",
      "3           539     Luces de freno  verde  223.41             4\n",
      "4           287           Embrague  verde  128.30             2\n"
     ]
    }
   ],
   "source": [
    "# Faker en español\n",
    "fake = Faker(\"es_ES\")\n",
    "\n",
    "# Generar piezas\n",
    "colores = [\"rojo\", \"azul\", \"verde\", \"negro\", \"blanco\"]\n",
    "categorias = [1, 2, 3, 4, 5, 6]  # ID de categorías ya insertadas\n",
    "nombres_piezas = [\n",
    "    \"Filtro de aceite\", \"Amortiguador\", \"Radiador\", \"Bujía\", \"Pastilla de freno\",\n",
    "    \"Alternador\", \"Motor de arranque\", \"Batería\", \"Disco de freno\", \"Inyector\",\n",
    "    \"Caja de cambios\", \"Escape\", \"Compresor\", \"Espejo retrovisor\", \"Ventilador\", \n",
    "    \"Faros delanteros\", \"Asientos\", \"Embrague\", \"Volante\",\"Neumáticos de invierno\",\"Neumaticos de verano\"\n",
    "    \"Neumatico de 4 estaciones\",\"Alfombrillas\",\"Espejos\",\"Parabrisas\",\"Luces de freno\"]\n",
    "\n",
    "# Generar piezas\n",
    "piezas = []\n",
    "for i in range(100):\n",
    "    piezas.append({\n",
    "        \"codigo_pieza\": fake.random_int(min=100, max=1000),\n",
    "        \"nombre\": random.choice(nombres_piezas),\n",
    "        \"color\": random.choice(colores),\n",
    "        \"precio\": round(random.uniform(10, 500), 2),\n",
    "        \"categoria_id\": random.choice(categorias)\n",
    "    })\n",
    "df_piezas = pd.DataFrame(piezas)\n",
    "\n",
    "print(df_piezas.head())\n",
    "\n",
    "df_piezas.to_csv(\"./archivos_csv/piezas.csv\", index=False)\n"
   ]
  },
  {
   "cell_type": "code",
   "execution_count": 132,
   "id": "ee463337",
   "metadata": {},
   "outputs": [],
   "source": [
    "for i in range(len(df_piezas.loc[df_piezas[\"codigo_pieza\"].duplicated()])):\n",
    "    df_piezas.loc[df_piezas[\"codigo_pieza\"].duplicated(),\"codigo_pieza\"] = df_piezas[\"codigo_pieza\"].max() + (i+1)"
   ]
  },
  {
   "cell_type": "code",
   "execution_count": 146,
   "id": "7c9ac637",
   "metadata": {},
   "outputs": [
    {
     "data": {
      "text/html": [
       "<div>\n",
       "<style scoped>\n",
       "    .dataframe tbody tr th:only-of-type {\n",
       "        vertical-align: middle;\n",
       "    }\n",
       "\n",
       "    .dataframe tbody tr th {\n",
       "        vertical-align: top;\n",
       "    }\n",
       "\n",
       "    .dataframe thead th {\n",
       "        text-align: right;\n",
       "    }\n",
       "</style>\n",
       "<table border=\"1\" class=\"dataframe\">\n",
       "  <thead>\n",
       "    <tr style=\"text-align: right;\">\n",
       "      <th></th>\n",
       "      <th>codigo_pieza</th>\n",
       "      <th>nombre</th>\n",
       "      <th>color</th>\n",
       "      <th>precio</th>\n",
       "      <th>categoria_id</th>\n",
       "    </tr>\n",
       "  </thead>\n",
       "  <tbody>\n",
       "  </tbody>\n",
       "</table>\n",
       "</div>"
      ],
      "text/plain": [
       "Empty DataFrame\n",
       "Columns: [codigo_pieza, nombre, color, precio, categoria_id]\n",
       "Index: []"
      ]
     },
     "execution_count": 146,
     "metadata": {},
     "output_type": "execute_result"
    }
   ],
   "source": [
    "df_piezas.loc[df_piezas[\"codigo_pieza\"].duplicated()]"
   ]
  },
  {
   "cell_type": "code",
   "execution_count": 152,
   "id": "51e29e95",
   "metadata": {},
   "outputs": [],
   "source": [
    "for i in range(len(df_piezas)):\n",
    "    cursor.execute(\"INSERT INTO Piezas (pieza_id,nombre,color,precio,categoria_id) VALUES (?,?,?,?,?)\", (int(df_piezas.iloc[i][\"codigo_pieza\"]), df_piezas.iloc[i][\"nombre\"], df_piezas.iloc[i][\"color\"],df_piezas.iloc[i][\"precio\"],int(df_piezas.iloc[i][\"categoria_id\"])))\n",
    "    connection.commit()"
   ]
  },
  {
   "cell_type": "code",
   "execution_count": null,
   "id": "814a4e98",
   "metadata": {},
   "outputs": [
    {
     "name": "stdout",
     "output_type": "stream",
     "text": [
      "   proveedor_id  pieza_id  cantidad       fecha\n",
      "0          3392       424         1  2024-07-06\n",
      "1          5774       178         1  2025-02-14\n",
      "2          2831       311         3  2025-01-06\n",
      "3          3386       876         7  2024-09-17\n",
      "4          3558       237         7  2024-11-17\n"
     ]
    }
   ],
   "source": [
    "\n",
    "fake = Faker(\"es_ES\")\n",
    "\n",
    "# Generar pedidos\n",
    "num_pedidos = 200\n",
    "pedidos = []\n",
    "\n",
    "for _ in range(num_pedidos):\n",
    "    pedidos.append({\n",
    "        \"proveedor_id\": fake.random_int(min=1000, max=9999),\n",
    "        \"pieza_id\": fake.random_int(min=100, max=1000),\n",
    "        \"cantidad\": random.randint(1, 10),\n",
    "        \"fecha\": fake.date_between(start_date='-1y', end_date='today').isoformat()\n",
    "    })\n",
    "\n",
    "df_pedidos = pd.DataFrame(pedidos)\n",
    "\n",
    "print(df_pedidos.head())\n",
    "\n",
    "df_pedidos.to_csv(\"./archivos_csv/pedidos.csv\", index=False)"
   ]
  },
  {
   "cell_type": "code",
   "execution_count": 157,
   "id": "e38afc3a",
   "metadata": {},
   "outputs": [],
   "source": [
    "for i in range(len(df_pedidos)):\n",
    "    cursor.execute(\"INSERT INTO Pedidos (proveedor_id,pieza_id,cantidad,fecha) VALUES (?,?,?,?)\", (int(df_pedidos.iloc[i][\"proveedor_id\"]), int(df_pedidos.iloc[i][\"pieza_id\"]), int(df_pedidos.iloc[i][\"cantidad\"]), df_pedidos.iloc[i][\"fecha\"]))\n",
    "    connection.commit()"
   ]
  },
  {
   "cell_type": "code",
   "execution_count": 158,
   "id": "6faa0433",
   "metadata": {},
   "outputs": [],
   "source": [
    "cursor.close()"
   ]
  },
  {
   "cell_type": "code",
   "execution_count": null,
   "id": "0f490146",
   "metadata": {},
   "outputs": [],
   "source": []
  }
 ],
 "metadata": {
  "kernelspec": {
   "display_name": "Python 3",
   "language": "python",
   "name": "python3"
  },
  "language_info": {
   "codemirror_mode": {
    "name": "ipython",
    "version": 3
   },
   "file_extension": ".py",
   "mimetype": "text/x-python",
   "name": "python",
   "nbconvert_exporter": "python",
   "pygments_lexer": "ipython3",
   "version": "3.13.2"
  }
 },
 "nbformat": 4,
 "nbformat_minor": 5
}
